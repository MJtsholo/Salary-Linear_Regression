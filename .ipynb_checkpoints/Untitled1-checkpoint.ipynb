{
 "cells": [
  {
   "cell_type": "code",
   "execution_count": 1,
   "metadata": {},
   "outputs": [],
   "source": [
    "import numpy as np\n",
    "import pandas as pd\n",
    "import matplotlib.pyplot as plt\n",
    "import statsmodels.api as sm\n",
    "import statsmodels.formula.api as smf\n",
    "%matplotlib inline\n",
    "from sklearn import datasets, linear_model\n",
    "from sklearn.linear_model import LinearRegression\n",
    "from sklearn.model_selection import train_test_split"
   ]
  },
  {
   "cell_type": "code",
   "execution_count": 2,
   "metadata": {},
   "outputs": [
    {
     "name": "stdout",
     "output_type": "stream",
     "text": [
      "(359, 11) (359,)\n",
      "(154, 11) (154,)\n",
      "Intercept      39296.664658\n",
      "yearsworked      891.581770\n",
      "dtype: float64\n",
      "                            OLS Regression Results                            \n",
      "==============================================================================\n",
      "Dep. Variable:                 salary   R-squared:                       0.448\n",
      "Model:                            OLS   Adj. R-squared:                  0.447\n",
      "Method:                 Least Squares   F-statistic:                     289.9\n",
      "Date:                Fri, 17 May 2019   Prob (F-statistic):           5.22e-48\n",
      "Time:                        17:57:52   Log-Likelihood:                -3793.9\n",
      "No. Observations:                 359   AIC:                             7592.\n",
      "Df Residuals:                     357   BIC:                             7600.\n",
      "Df Model:                           1                                         \n",
      "Covariance Type:            nonrobust                                         \n",
      "===============================================================================\n",
      "                  coef    std err          t      P>|t|      [0.025      0.975]\n",
      "-------------------------------------------------------------------------------\n",
      "Intercept     3.93e+04    841.722     46.686      0.000    3.76e+04     4.1e+04\n",
      "yearsworked   891.5818     52.366     17.026      0.000     788.597     994.567\n",
      "==============================================================================\n",
      "Omnibus:                       72.915   Durbin-Watson:                   2.071\n",
      "Prob(Omnibus):                  0.000   Jarque-Bera (JB):              128.849\n",
      "Skew:                           1.141   Prob(JB):                     1.05e-28\n",
      "Kurtosis:                       4.845   Cond. No.                         27.2\n",
      "==============================================================================\n",
      "\n",
      "Warnings:\n",
      "[1] Standard Errors assume that the covariance matrix of the errors is correctly specified.\n"
     ]
    }
   ],
   "source": [
    "data_s = pd.read_csv(\"salary.csv\").dropna()\n",
    "\n",
    "\n",
    "y = data_s.salary\n",
    "\n",
    "x_train, x_test, y_train, y_test = train_test_split(data_s, y, test_size=0.3, random_state = 15)\n",
    "print(x_train.shape, y_train.shape)\n",
    "print(x_test.shape, y_test.shape)\n",
    "\n",
    "\n",
    "\n",
    "# create a fitted model in one line\n",
    "l_model = smf.ols(formula='salary ~ yearsworked', data=x_train).fit()\n",
    "\n",
    "# print the coefficients\n",
    "print(l_model.params)\n",
    "print(l_model.summary())"
   ]
  },
  {
   "cell_type": "markdown",
   "metadata": {},
   "source": [
    "### Q1 - Using the statsmodels package, run a simple linear regression for Salary with one predictor variable: Years Worked.\n",
    "#### a. The model does predict the dependent variable which is salary, with the r squared being 0.447 the points are a bit far apart indicating that it is a good fit but not the best and the p-value being 0.000 it is considered to be statistically significant because it is less that 0.05.\n",
    "#### b. The percentage of the variance in employees’ salaries is 44.7%."
   ]
  },
  {
   "cell_type": "markdown",
   "metadata": {},
   "source": [
    "### Q2 - What does the unstandardized coefficient (B or 'coef' in statsmodels) tell you about the relationship between Years Worked and Salary?\n",
    "#### A. The coef is the intercept meaning that if the yearsworked coef is zero(0) then the expected outcome/output will be  39296.664658. The relationship between years worked and salary is positive."
   ]
  },
  {
   "cell_type": "markdown",
   "metadata": {},
   "source": [
    "### Q3 - What do the 95% confidence intervals [0.025, 0.975] mean?\n",
    "#### A. The confidence intervals is a range of values where we can be certain that 95% of people fall in that range, in this case of years worked and salary we can see that we have a 95% certainty that when you have worked for a year your salary has an increase that is between  788.597 -  994.567​."
   ]
  },
  {
   "cell_type": "code",
   "execution_count": 3,
   "metadata": {},
   "outputs": [
    {
     "data": {
      "text/plain": [
       "0    49995.645903\n",
       "dtype: float64"
      ]
     },
     "execution_count": 3,
     "metadata": {},
     "output_type": "execute_result"
    }
   ],
   "source": [
    "pre_df = pd.DataFrame({'yearsworked': [12]})\n",
    "l_model.predict(pre_df)"
   ]
  },
  {
   "cell_type": "markdown",
   "metadata": {},
   "source": [
    "### Q4 - Calculate the expected salary for someone with 12 years’ work experience.\n",
    "#### A. The expected salary for someone who has worked for 12 years is R42 621. 00"
   ]
  },
  {
   "cell_type": "code",
   "execution_count": 4,
   "metadata": {},
   "outputs": [
    {
     "data": {
      "text/plain": [
       "0    110623.206287\n",
       "dtype: float64"
      ]
     },
     "execution_count": 4,
     "metadata": {},
     "output_type": "execute_result"
    }
   ],
   "source": [
    "pre_df = pd.DataFrame({'yearsworked': [80]})\n",
    "l_model.predict(pre_df)"
   ]
  },
  {
   "cell_type": "markdown",
   "metadata": {},
   "source": [
    "### Q5 - Calculate the expected salary for someone with 80 years’ work experience. Are there any problems with this prediction? If so, what are they?\n",
    "#### A. "
   ]
  },
  {
   "cell_type": "markdown",
   "metadata": {},
   "source": [
    "### Q6 - We have only looked at the number of years an employee has worked. What other employee characteristics might influence their salary?\n",
    "#### A. Other employee characteristics are position, years rank and years absent."
   ]
  },
  {
   "cell_type": "markdown",
   "metadata": {},
   "source": [
    "### Fit your model on test set"
   ]
  },
  {
   "cell_type": "code",
   "execution_count": 5,
   "metadata": {},
   "outputs": [
    {
     "name": "stdout",
     "output_type": "stream",
     "text": [
      "Intercept      42036.368943\n",
      "yearsworked      705.589287\n",
      "dtype: float64\n",
      "                            OLS Regression Results                            \n",
      "==============================================================================\n",
      "Dep. Variable:                 salary   R-squared:                       0.265\n",
      "Model:                            OLS   Adj. R-squared:                  0.260\n",
      "Method:                 Least Squares   F-statistic:                     54.87\n",
      "Date:                Fri, 17 May 2019   Prob (F-statistic):           8.27e-12\n",
      "Time:                        17:57:52   Log-Likelihood:                -1650.0\n",
      "No. Observations:                 154   AIC:                             3304.\n",
      "Df Residuals:                     152   BIC:                             3310.\n",
      "Df Model:                           1                                         \n",
      "Covariance Type:            nonrobust                                         \n",
      "===============================================================================\n",
      "                  coef    std err          t      P>|t|      [0.025      0.975]\n",
      "-------------------------------------------------------------------------------\n",
      "Intercept    4.204e+04   1485.743     28.293      0.000    3.91e+04     4.5e+04\n",
      "yearsworked   705.5893     95.252      7.408      0.000     517.401     893.778\n",
      "==============================================================================\n",
      "Omnibus:                       14.819   Durbin-Watson:                   1.826\n",
      "Prob(Omnibus):                  0.001   Jarque-Bera (JB):               16.912\n",
      "Skew:                           0.812   Prob(JB):                     0.000213\n",
      "Kurtosis:                       3.012   Cond. No.                         26.3\n",
      "==============================================================================\n",
      "\n",
      "Warnings:\n",
      "[1] Standard Errors assume that the covariance matrix of the errors is correctly specified.\n"
     ]
    }
   ],
   "source": [
    "# create a fitted model in one line\n",
    "l_model = smf.ols(formula='salary ~ yearsworked', data=x_test).fit()\n",
    "\n",
    "# print the coefficients\n",
    "print(l_model.params)\n",
    "print(l_model.summary())"
   ]
  },
  {
   "cell_type": "code",
   "execution_count": 6,
   "metadata": {},
   "outputs": [
    {
     "data": {
      "text/plain": [
       "44153.13680499635"
      ]
     },
     "execution_count": 6,
     "metadata": {},
     "output_type": "execute_result"
    }
   ],
   "source": [
    "predictions = l_model.predict(x_train.yearsworked)\n",
    "predictions[50]"
   ]
  },
  {
   "cell_type": "code",
   "execution_count": null,
   "metadata": {},
   "outputs": [],
   "source": []
  }
 ],
 "metadata": {
  "kernelspec": {
   "display_name": "Python 3",
   "language": "python",
   "name": "python3"
  },
  "language_info": {
   "codemirror_mode": {
    "name": "ipython",
    "version": 3
   },
   "file_extension": ".py",
   "mimetype": "text/x-python",
   "name": "python",
   "nbconvert_exporter": "python",
   "pygments_lexer": "ipython3",
   "version": "3.6.5"
  }
 },
 "nbformat": 4,
 "nbformat_minor": 2
}
