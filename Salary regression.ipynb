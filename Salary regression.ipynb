{
 "cells": [
  {
   "cell_type": "code",
   "execution_count": 8,
   "metadata": {},
   "outputs": [],
   "source": [
    "import numpy as np\n",
    "import pandas as pd\n",
    "import matplotlib.pyplot as plt\n",
    "import statsmodels.api as sm\n",
    "import statsmodels.formula.api as smf\n",
    "%matplotlib inline\n",
    "from sklearn import datasets, linear_model\n",
    "from sklearn.linear_model import LinearRegression\n",
    "from sklearn.model_selection import train_test_split"
   ]
  },
  {
   "cell_type": "code",
   "execution_count": 9,
   "metadata": {},
   "outputs": [
    {
     "data": {
      "text/html": [
       "<div>\n",
       "<style scoped>\n",
       "    .dataframe tbody tr th:only-of-type {\n",
       "        vertical-align: middle;\n",
       "    }\n",
       "\n",
       "    .dataframe tbody tr th {\n",
       "        vertical-align: top;\n",
       "    }\n",
       "\n",
       "    .dataframe thead th {\n",
       "        text-align: right;\n",
       "    }\n",
       "</style>\n",
       "<table border=\"1\" class=\"dataframe\">\n",
       "  <thead>\n",
       "    <tr style=\"text-align: right;\">\n",
       "      <th></th>\n",
       "      <th>salary</th>\n",
       "      <th>exprior</th>\n",
       "      <th>yearsworked</th>\n",
       "      <th>yearsrank</th>\n",
       "      <th>market</th>\n",
       "      <th>degree</th>\n",
       "      <th>otherqual</th>\n",
       "      <th>position</th>\n",
       "      <th>male</th>\n",
       "      <th>Field</th>\n",
       "      <th>yearsabs</th>\n",
       "    </tr>\n",
       "  </thead>\n",
       "  <tbody>\n",
       "    <tr>\n",
       "      <th>0</th>\n",
       "      <td>53000.0</td>\n",
       "      <td>0</td>\n",
       "      <td>0</td>\n",
       "      <td>0</td>\n",
       "      <td>1.17</td>\n",
       "      <td>1</td>\n",
       "      <td>0</td>\n",
       "      <td>1</td>\n",
       "      <td>1</td>\n",
       "      <td>3</td>\n",
       "      <td>0</td>\n",
       "    </tr>\n",
       "    <tr>\n",
       "      <th>1</th>\n",
       "      <td>58000.0</td>\n",
       "      <td>1</td>\n",
       "      <td>0</td>\n",
       "      <td>0</td>\n",
       "      <td>1.24</td>\n",
       "      <td>1</td>\n",
       "      <td>0</td>\n",
       "      <td>1</td>\n",
       "      <td>1</td>\n",
       "      <td>2</td>\n",
       "      <td>0</td>\n",
       "    </tr>\n",
       "    <tr>\n",
       "      <th>2</th>\n",
       "      <td>45500.0</td>\n",
       "      <td>0</td>\n",
       "      <td>0</td>\n",
       "      <td>0</td>\n",
       "      <td>1.21</td>\n",
       "      <td>1</td>\n",
       "      <td>0</td>\n",
       "      <td>1</td>\n",
       "      <td>1</td>\n",
       "      <td>3</td>\n",
       "      <td>2</td>\n",
       "    </tr>\n",
       "    <tr>\n",
       "      <th>3</th>\n",
       "      <td>35782.0</td>\n",
       "      <td>0</td>\n",
       "      <td>2</td>\n",
       "      <td>1</td>\n",
       "      <td>0.99</td>\n",
       "      <td>1</td>\n",
       "      <td>0</td>\n",
       "      <td>1</td>\n",
       "      <td>1</td>\n",
       "      <td>4</td>\n",
       "      <td>1</td>\n",
       "    </tr>\n",
       "    <tr>\n",
       "      <th>4</th>\n",
       "      <td>34731.0</td>\n",
       "      <td>0</td>\n",
       "      <td>2</td>\n",
       "      <td>2</td>\n",
       "      <td>0.91</td>\n",
       "      <td>1</td>\n",
       "      <td>0</td>\n",
       "      <td>1</td>\n",
       "      <td>1</td>\n",
       "      <td>4</td>\n",
       "      <td>1</td>\n",
       "    </tr>\n",
       "  </tbody>\n",
       "</table>\n",
       "</div>"
      ],
      "text/plain": [
       "    salary  exprior  yearsworked  yearsrank  market  degree  otherqual  \\\n",
       "0  53000.0        0            0          0    1.17       1          0   \n",
       "1  58000.0        1            0          0    1.24       1          0   \n",
       "2  45500.0        0            0          0    1.21       1          0   \n",
       "3  35782.0        0            2          1    0.99       1          0   \n",
       "4  34731.0        0            2          2    0.91       1          0   \n",
       "\n",
       "   position  male  Field  yearsabs  \n",
       "0         1     1      3         0  \n",
       "1         1     1      2         0  \n",
       "2         1     1      3         2  \n",
       "3         1     1      4         1  \n",
       "4         1     1      4         1  "
      ]
     },
     "execution_count": 9,
     "metadata": {},
     "output_type": "execute_result"
    }
   ],
   "source": [
    "df_salary = pd.read_csv(\"salary.csv\").dropna()\n",
    "df_salary.head()"
   ]
  },
  {
   "cell_type": "code",
   "execution_count": 10,
   "metadata": {},
   "outputs": [
    {
     "name": "stdout",
     "output_type": "stream",
     "text": [
      "<class 'pandas.core.frame.DataFrame'>\n",
      "Int64Index: 513 entries, 0 to 513\n",
      "Data columns (total 11 columns):\n",
      "salary         513 non-null float64\n",
      "exprior        513 non-null int64\n",
      "yearsworked    513 non-null int64\n",
      "yearsrank      513 non-null int64\n",
      "market         513 non-null float64\n",
      "degree         513 non-null int64\n",
      "otherqual      513 non-null int64\n",
      "position       513 non-null int64\n",
      "male           513 non-null int64\n",
      "Field          513 non-null int64\n",
      "yearsabs       513 non-null int64\n",
      "dtypes: float64(2), int64(9)\n",
      "memory usage: 48.1 KB\n"
     ]
    },
    {
     "data": {
      "text/plain": [
       "(513, 11)"
      ]
     },
     "execution_count": 10,
     "metadata": {},
     "output_type": "execute_result"
    }
   ],
   "source": [
    "df_salary.info()\n",
    "df_salary.shape"
   ]
  },
  {
   "cell_type": "code",
   "execution_count": 24,
   "metadata": {},
   "outputs": [
    {
     "name": "stdout",
     "output_type": "stream",
     "text": [
      "(359, 11) (359,)\n",
      "(154, 11) (154,)\n",
      "Intercept      39296.664658\n",
      "yearsworked      891.581770\n",
      "dtype: float64\n",
      "                            OLS Regression Results                            \n",
      "==============================================================================\n",
      "Dep. Variable:                 salary   R-squared:                       0.448\n",
      "Model:                            OLS   Adj. R-squared:                  0.447\n",
      "Method:                 Least Squares   F-statistic:                     289.9\n",
      "Date:                Fri, 17 May 2019   Prob (F-statistic):           5.22e-48\n",
      "Time:                        14:23:36   Log-Likelihood:                -3793.9\n",
      "No. Observations:                 359   AIC:                             7592.\n",
      "Df Residuals:                     357   BIC:                             7600.\n",
      "Df Model:                           1                                         \n",
      "Covariance Type:            nonrobust                                         \n",
      "===============================================================================\n",
      "                  coef    std err          t      P>|t|      [0.025      0.975]\n",
      "-------------------------------------------------------------------------------\n",
      "Intercept     3.93e+04    841.722     46.686      0.000    3.76e+04     4.1e+04\n",
      "yearsworked   891.5818     52.366     17.026      0.000     788.597     994.567\n",
      "==============================================================================\n",
      "Omnibus:                       72.915   Durbin-Watson:                   2.071\n",
      "Prob(Omnibus):                  0.000   Jarque-Bera (JB):              128.849\n",
      "Skew:                           1.141   Prob(JB):                     1.05e-28\n",
      "Kurtosis:                       4.845   Cond. No.                         27.2\n",
      "==============================================================================\n",
      "\n",
      "Warnings:\n",
      "[1] Standard Errors assume that the covariance matrix of the errors is correctly specified.\n"
     ]
    }
   ],
   "source": [
    "\n",
    "y = df_salary.salary\n",
    "\n",
    "# create training and testing vars\n",
    "x_train, x_test, y_train, y_test = train_test_split(df_salary, y, test_size=0.3, random_state = 15)\n",
    "print(x_train.shape, y_train.shape)\n",
    "print(x_test.shape, y_test.shape)\n",
    "\n",
    "# create a fitted model in one line\n",
    "lm = smf.ols(formula='salary ~ yearsworked', data=x_train).fit()\n",
    "\n",
    "# print the coefficients\n",
    "print(lm.params)\n",
    "print(lm.summary())"
   ]
  },
  {
   "cell_type": "code",
   "execution_count": null,
   "metadata": {},
   "outputs": [],
   "source": []
  },
  {
   "cell_type": "markdown",
   "metadata": {},
   "source": [
    "### Q1-\n",
    "#### a. The model does predict the dependent variable which is salary, with the r squared being 0.447 the points are a bit far apart indidcating that it is slightly unfit and the p-value being 0.000 it is considered to be statistically significant.\n",
    "#### b. The percentage of the variance in employees’ salaries is 44.7%."
   ]
  },
  {
   "cell_type": "markdown",
   "metadata": {},
   "source": [
    "### Q2- What does the unstandardized coefficient (B or 'coef' in statsmodels) tell you about the relationship between Years Worked and Salary?\n",
    "#### "
   ]
  },
  {
   "cell_type": "code",
   "execution_count": null,
   "metadata": {},
   "outputs": [],
   "source": []
  }
 ],
 "metadata": {
  "kernelspec": {
   "display_name": "Python 3",
   "language": "python",
   "name": "python3"
  },
  "language_info": {
   "codemirror_mode": {
    "name": "ipython",
    "version": 3
   },
   "file_extension": ".py",
   "mimetype": "text/x-python",
   "name": "python",
   "nbconvert_exporter": "python",
   "pygments_lexer": "ipython3",
   "version": "3.6.5"
  }
 },
 "nbformat": 4,
 "nbformat_minor": 2
}
